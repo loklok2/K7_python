{
 "cells": [
  {
   "cell_type": "markdown",
   "id": "4c57a530-d6be-4703-ada4-e4df73d3fb4b",
   "metadata": {},
   "source": [
    "# 제목1\n",
    "## 제목 2\n",
    "### 제목 3\n",
    "\n",
    "* 하나\n",
    "* 둘\n",
    "* 셋\n",
    "\n",
    "> 중요합니다"
   ]
  },
  {
   "cell_type": "markdown",
   "id": "98087c09-be90-40de-ab74-e07d7c5f4615",
   "metadata": {},
   "source": [
    "# 2.NumPy"
   ]
  },
  {
   "cell_type": "code",
   "execution_count": 4,
   "id": "a0985028-c695-4556-b3d6-f03611a58d39",
   "metadata": {},
   "outputs": [
    {
     "data": {
      "text/plain": [
       "'1.26.4'"
      ]
     },
     "execution_count": 4,
     "metadata": {},
     "output_type": "execute_result"
    }
   ],
   "source": [
    "import numpy\n",
    "numpy.__version__"
   ]
  },
  {
   "cell_type": "code",
   "execution_count": 5,
   "id": "dc82fd34-afcc-419b-bf29-a9a4efbc24e4",
   "metadata": {},
   "outputs": [],
   "source": [
    "import numpy as np"
   ]
  },
  {
   "cell_type": "code",
   "execution_count": 8,
   "id": "338af335-a9a7-4640-a563-719447bed443",
   "metadata": {},
   "outputs": [
    {
     "data": {
      "text/plain": [
       "(0, int)"
      ]
     },
     "execution_count": 8,
     "metadata": {},
     "output_type": "execute_result"
    }
   ],
   "source": [
    "result = 0\n",
    "result, type(result)"
   ]
  },
  {
   "cell_type": "code",
   "execution_count": 10,
   "id": "1c0578dc-05fe-4cca-af4c-509b052a0e7f",
   "metadata": {},
   "outputs": [
    {
     "data": {
      "text/plain": [
       "('hello', str)"
      ]
     },
     "execution_count": 10,
     "metadata": {},
     "output_type": "execute_result"
    }
   ],
   "source": [
    "result = 'hello'\n",
    "result, type(result)"
   ]
  },
  {
   "cell_type": "code",
   "execution_count": 11,
   "id": "7cc8e436-63c4-4f67-9bc9-ab47f9659326",
   "metadata": {},
   "outputs": [
    {
     "data": {
      "text/plain": [
       "([1, 2, 3], list)"
      ]
     },
     "execution_count": 11,
     "metadata": {},
     "output_type": "execute_result"
    }
   ],
   "source": [
    "result = [1,2,3]\n",
    "result, type(result)"
   ]
  },
  {
   "cell_type": "code",
   "execution_count": 12,
   "id": "f31e8cfa-82a6-45fa-bdf3-e09d6a389919",
   "metadata": {},
   "outputs": [
    {
     "data": {
      "text/plain": [
       "(3, builtin_function_or_method)"
      ]
     },
     "execution_count": 12,
     "metadata": {},
     "output_type": "execute_result"
    }
   ],
   "source": [
    "result = max\n",
    "result([1,2,3]), type(result)"
   ]
  },
  {
   "cell_type": "code",
   "execution_count": 19,
   "id": "78c5d129-b80c-4982-bdfa-bada7bbb5140",
   "metadata": {},
   "outputs": [],
   "source": [
    "def add(x, y)->int:\n",
    "    return x+y"
   ]
  },
  {
   "cell_type": "code",
   "execution_count": 21,
   "id": "e3a45adb-8beb-44b3-8139-79acf5c7a708",
   "metadata": {},
   "outputs": [
    {
     "data": {
      "text/plain": [
       "4"
      ]
     },
     "execution_count": 21,
     "metadata": {},
     "output_type": "execute_result"
    }
   ],
   "source": [
    "add(1,3)"
   ]
  },
  {
   "cell_type": "code",
   "execution_count": 22,
   "id": "6f004559-3d76-42df-ae92-9e4bcc4a6c37",
   "metadata": {},
   "outputs": [
    {
     "ename": "TypeError",
     "evalue": "unsupported operand type(s) for +: 'int' and 'str'",
     "output_type": "error",
     "traceback": [
      "\u001b[1;31m---------------------------------------------------------------------------\u001b[0m",
      "\u001b[1;31mTypeError\u001b[0m                                 Traceback (most recent call last)",
      "Cell \u001b[1;32mIn[22], line 1\u001b[0m\n\u001b[1;32m----> 1\u001b[0m \u001b[43madd\u001b[49m\u001b[43m(\u001b[49m\u001b[38;5;241;43m1\u001b[39;49m\u001b[43m,\u001b[49m\u001b[43m \u001b[49m\u001b[38;5;124;43m\"\u001b[39;49m\u001b[38;5;124;43mhello\u001b[39;49m\u001b[38;5;124;43m\"\u001b[39;49m\u001b[43m)\u001b[49m\n",
      "Cell \u001b[1;32mIn[19], line 2\u001b[0m, in \u001b[0;36madd\u001b[1;34m(x, y)\u001b[0m\n\u001b[0;32m      1\u001b[0m \u001b[38;5;28;01mdef\u001b[39;00m \u001b[38;5;21madd\u001b[39m(x, y)\u001b[38;5;241m-\u001b[39m\u001b[38;5;241m>\u001b[39m\u001b[38;5;28mint\u001b[39m:\n\u001b[1;32m----> 2\u001b[0m     \u001b[38;5;28;01mreturn\u001b[39;00m \u001b[43mx\u001b[49m\u001b[38;5;241;43m+\u001b[39;49m\u001b[43my\u001b[49m\n",
      "\u001b[1;31mTypeError\u001b[0m: unsupported operand type(s) for +: 'int' and 'str'"
     ]
    }
   ],
   "source": [
    "add(1, \"hello\")"
   ]
  },
  {
   "cell_type": "code",
   "execution_count": 23,
   "id": "3b49943a-631a-4cfa-bdeb-480ee7453b68",
   "metadata": {},
   "outputs": [
    {
     "data": {
      "text/plain": [
       "[1, 'hello', <function max>, range(0, 100)]"
      ]
     },
     "execution_count": 23,
     "metadata": {},
     "output_type": "execute_result"
    }
   ],
   "source": [
    "lst = [1, \"hello\", max, range(100)]\n",
    "lst"
   ]
  },
  {
   "cell_type": "markdown",
   "id": "20ee024d-81af-4fc3-ae4e-6d7e07a6b1fd",
   "metadata": {},
   "source": [
    "### 파이선 고정타입 배열"
   ]
  },
  {
   "cell_type": "code",
   "execution_count": 24,
   "id": "eab7a9ef-63b9-45a7-a999-7b841ff0dddd",
   "metadata": {},
   "outputs": [
    {
     "data": {
      "text/plain": [
       "array('i', [0, 1, 2, 3, 4, 5, 6, 7, 8, 9])"
      ]
     },
     "execution_count": 24,
     "metadata": {},
     "output_type": "execute_result"
    }
   ],
   "source": [
    "import array\n",
    "L = list(range(10))\n",
    "A = array.array('i', L)\n",
    "A"
   ]
  },
  {
   "cell_type": "markdown",
   "id": "02318ed4-01ce-4119-a2a0-4bc77e427b59",
   "metadata": {},
   "source": [
    "### 파이썬 리스트에서 배열만들기\n",
    "* Numpy는 배열의 모든 요소가 같은 type 이어야 한다\n",
    "* Numpy는 가능한 경우 사우이 타입을 취한다(정수는 상위 타입은 부동 소수점으로 변환)\n",
    "* 명시적으로 결과 배열의 타입을 설정하려면 dtype 사용!\n",
    "* 그리고 파이썬 리스트와 다르게 Numpy는 명시적으로 다차원이 가능함"
   ]
  },
  {
   "cell_type": "code",
   "execution_count": 25,
   "id": "cd11bdbf-6d5f-4043-887d-a940e4220787",
   "metadata": {},
   "outputs": [],
   "source": [
    "import numpy as np"
   ]
  },
  {
   "cell_type": "code",
   "execution_count": 26,
   "id": "5efba755-7e4a-49dc-847f-ab6ddbd13779",
   "metadata": {},
   "outputs": [
    {
     "data": {
      "text/plain": [
       "array([1, 4, 2, 5, 3])"
      ]
     },
     "execution_count": 26,
     "metadata": {},
     "output_type": "execute_result"
    }
   ],
   "source": [
    "# 정수배열\n",
    "np.array([1,4,2,5,3])"
   ]
  },
  {
   "cell_type": "code",
   "execution_count": 27,
   "id": "fbe3537e-48bb-4951-b0b7-7a4d56a06dcc",
   "metadata": {},
   "outputs": [
    {
     "data": {
      "text/plain": [
       "array([3.14, 4.  , 2.  , 3.  ])"
      ]
     },
     "execution_count": 27,
     "metadata": {},
     "output_type": "execute_result"
    }
   ],
   "source": [
    "np.array([3.14,4,2,3])"
   ]
  },
  {
   "cell_type": "code",
   "execution_count": 28,
   "id": "245fa9d8-1cc9-40a5-b9e0-96b32c7b300d",
   "metadata": {},
   "outputs": [
    {
     "data": {
      "text/plain": [
       "array([1., 2., 3., 4.], dtype=float32)"
      ]
     },
     "execution_count": 28,
     "metadata": {},
     "output_type": "execute_result"
    }
   ],
   "source": [
    "np.array([1,2,3,4,], dtype='float32')"
   ]
  },
  {
   "cell_type": "code",
   "execution_count": 30,
   "id": "8f79a90a-8264-4e0c-ae34-c8c2a38ce486",
   "metadata": {},
   "outputs": [
    {
     "data": {
      "text/plain": [
       "array([[2, 3, 4],\n",
       "       [4, 5, 6],\n",
       "       [6, 7, 8]])"
      ]
     },
     "execution_count": 30,
     "metadata": {},
     "output_type": "execute_result"
    }
   ],
   "source": [
    "# 리스트를 중첩하면 다차원 배열이 됨\n",
    "np.array([range(i,i+3) for i in [2,4,6]])"
   ]
  },
  {
   "cell_type": "markdown",
   "id": "bc77ce73-3287-4325-9fc8-2eabba930cdf",
   "metadata": {},
   "source": [
    "### 처음부터 배열 만들기\n",
    "* 규모가 큰 배열의 경우에는 Numpy에 내장된 루틴을 사용해서 처음부터 배열을 생성하는것이 더 효율적"
   ]
  },
  {
   "cell_type": "code",
   "execution_count": 31,
   "id": "22a3e7e5-e88d-49b4-a4a2-a29f491e0322",
   "metadata": {},
   "outputs": [
    {
     "data": {
      "text/plain": [
       "array([0, 0, 0, 0, 0, 0, 0, 0, 0, 0])"
      ]
     },
     "execution_count": 31,
     "metadata": {},
     "output_type": "execute_result"
    }
   ],
   "source": [
    "# 0으로 채운 길이 10의 정수 배열 만들기\n",
    "np.zeros(10, dtype = int)"
   ]
  },
  {
   "cell_type": "code",
   "execution_count": 32,
   "id": "266a3a34-304e-4ec7-8802-f1e963d98b70",
   "metadata": {},
   "outputs": [
    {
     "data": {
      "text/plain": [
       "array([[1., 1., 1., 1., 1.],\n",
       "       [1., 1., 1., 1., 1.],\n",
       "       [1., 1., 1., 1., 1.]])"
      ]
     },
     "execution_count": 32,
     "metadata": {},
     "output_type": "execute_result"
    }
   ],
   "source": [
    "# 1로 채운 3x5 부동 소수점 배열 만들기\n",
    "np.ones((3,5), dtype = float)"
   ]
  },
  {
   "cell_type": "code",
   "execution_count": 33,
   "id": "dd880646-52c3-48d3-88ba-6ccc4a0a7006",
   "metadata": {},
   "outputs": [
    {
     "data": {
      "text/plain": [
       "array([[3.14, 3.14, 3.14, 3.14, 3.14],\n",
       "       [3.14, 3.14, 3.14, 3.14, 3.14],\n",
       "       [3.14, 3.14, 3.14, 3.14, 3.14]])"
      ]
     },
     "execution_count": 33,
     "metadata": {},
     "output_type": "execute_result"
    }
   ],
   "source": [
    "# 3.14로 채운 3x5 배열 만들기\n",
    "np.full((3,5), 3.14)"
   ]
  },
  {
   "cell_type": "code",
   "execution_count": 34,
   "id": "eca05a66-22f4-4f72-8c42-004ec75ec49b",
   "metadata": {},
   "outputs": [
    {
     "data": {
      "text/plain": [
       "array([ 0,  2,  4,  6,  8, 10, 12, 14, 16, 18])"
      ]
     },
     "execution_count": 34,
     "metadata": {},
     "output_type": "execute_result"
    }
   ],
   "source": [
    "# 선형 수열로 채운 배열 만들기\n",
    "# 0에서 시작해 2씩 더해 20까지 채움\n",
    "# (내장함수인 range()와 유사함\n",
    "np.arange(0, 20, 2)"
   ]
  },
  {
   "cell_type": "code",
   "execution_count": 46,
   "id": "6f6d5a36-06cd-4485-9fb1-d7748882fff4",
   "metadata": {},
   "outputs": [
    {
     "data": {
      "text/plain": [
       "array([ 0.,  1.,  2.,  3.,  4.,  5.,  6.,  7.,  8.,  9., 10.])"
      ]
     },
     "execution_count": 46,
     "metadata": {},
     "output_type": "execute_result"
    }
   ],
   "source": [
    "# 0과 1사이에 일정한 간격을 가진 다섯 개의 값으로 채운 배열 만들기\n",
    "np.linspace(0, 10, 11)\n",
    "# x축을 만들때 자주 쓴다!!"
   ]
  },
  {
   "cell_type": "code",
   "execution_count": 38,
   "id": "81482910-c260-4313-bb8e-8e67debfcacb",
   "metadata": {},
   "outputs": [
    {
     "data": {
      "text/plain": [
       "array([[0.5797067 , 0.60389217, 0.25215596],\n",
       "       [0.5287051 , 0.33444901, 0.09847988],\n",
       "       [0.88947539, 0.86624185, 0.53813022]])"
      ]
     },
     "execution_count": 38,
     "metadata": {},
     "output_type": "execute_result"
    }
   ],
   "source": [
    "# 균등하게 분포된 3x3 배열 만들기\n",
    "# 0과 1사이의 난수로 채움\n",
    "np.random.random((3,3))"
   ]
  },
  {
   "cell_type": "code",
   "execution_count": 51,
   "id": "bf1d03dd-92dd-453d-9e2e-f04906f7b932",
   "metadata": {},
   "outputs": [],
   "source": [
    "color_image = np.random.random((32,3, 224, 224))"
   ]
  },
  {
   "cell_type": "code",
   "execution_count": 52,
   "id": "e3f96e09-487a-4ddb-a927-fb980534d3c2",
   "metadata": {},
   "outputs": [
    {
     "data": {
      "text/plain": [
       "((32, 3, 224, 224), 4816896)"
      ]
     },
     "execution_count": 52,
     "metadata": {},
     "output_type": "execute_result"
    }
   ],
   "source": [
    "color_image.shape, color_image.size"
   ]
  },
  {
   "cell_type": "code",
   "execution_count": 56,
   "id": "4a4dcff5-f9ab-4f8b-bbb2-f8db93e76f4b",
   "metadata": {},
   "outputs": [],
   "source": [
    "import matplotlib.pyplot as plt"
   ]
  },
  {
   "cell_type": "code",
   "execution_count": 57,
   "id": "6bd192d8-9b6e-4905-be31-dd8fd4458a0c",
   "metadata": {},
   "outputs": [
    {
     "ename": "AttributeError",
     "evalue": "'numpy.ndarray' object has no attribute 'float'",
     "output_type": "error",
     "traceback": [
      "\u001b[1;31m---------------------------------------------------------------------------\u001b[0m",
      "\u001b[1;31mAttributeError\u001b[0m                            Traceback (most recent call last)",
      "Cell \u001b[1;32mIn[57], line 1\u001b[0m\n\u001b[1;32m----> 1\u001b[0m plt\u001b[38;5;241m.\u001b[39mhist(\u001b[43mcolor_image\u001b[49m\u001b[38;5;241;43m.\u001b[39;49m\u001b[43mfloat\u001b[49m)\n",
      "\u001b[1;31mAttributeError\u001b[0m: 'numpy.ndarray' object has no attribute 'float'"
     ]
    }
   ],
   "source": [
    "plt.hist(color_image)"
   ]
  },
  {
   "cell_type": "code",
   "execution_count": 39,
   "id": "d0deb3b6-81ac-43b8-8809-e135f4873764",
   "metadata": {},
   "outputs": [
    {
     "data": {
      "text/plain": [
       "array([[ 0.32838436, -0.22153953,  0.20558277],\n",
       "       [-1.39672506,  1.30265558, -0.23608592],\n",
       "       [ 0.05718304,  0.82037141, -0.61933822]])"
      ]
     },
     "execution_count": 39,
     "metadata": {},
     "output_type": "execute_result"
    }
   ],
   "source": [
    "#정규분포(평균=0, 표준편차=1)의 난수로 채운 3x3 배열 만들기\n",
    "np.random.normal(0, 1, (3,3))"
   ]
  },
  {
   "cell_type": "code",
   "execution_count": 40,
   "id": "5bd66c6d-249e-402f-9b0c-be54bc3ef636",
   "metadata": {},
   "outputs": [
    {
     "data": {
      "text/plain": [
       "array([[8, 6, 7],\n",
       "       [3, 5, 5],\n",
       "       [1, 1, 7]])"
      ]
     },
     "execution_count": 40,
     "metadata": {},
     "output_type": "execute_result"
    }
   ],
   "source": [
    "# [0, 10] 구간의 임의의 정수로 채운 3x3 배열 만들기\n",
    "np.random.randint(0, 10, (3,3))"
   ]
  },
  {
   "cell_type": "code",
   "execution_count": 41,
   "id": "293c01c5-cd6b-4cab-b982-a8ec09caaf32",
   "metadata": {},
   "outputs": [
    {
     "data": {
      "text/plain": [
       "array([[1., 0., 0.],\n",
       "       [0., 1., 0.],\n",
       "       [0., 0., 1.]])"
      ]
     },
     "execution_count": 41,
     "metadata": {},
     "output_type": "execute_result"
    }
   ],
   "source": [
    "# 3x3 단위 행렬 만들기\n",
    "np.eye(3,3)"
   ]
  },
  {
   "cell_type": "code",
   "execution_count": 42,
   "id": "9d5df002-2c5f-4066-b798-dca7cfe7f02f",
   "metadata": {},
   "outputs": [
    {
     "data": {
      "text/plain": [
       "array([1., 1., 1.])"
      ]
     },
     "execution_count": 42,
     "metadata": {},
     "output_type": "execute_result"
    }
   ],
   "source": [
    "#세 개의 정수를 가지는 초기화되지 않은 배열 만들기\n",
    "#값은 해당 메모리 위치에 이미 존재하고 있는 값으로 채움\n",
    "np.empty(3)"
   ]
  },
  {
   "cell_type": "markdown",
   "id": "a71cd1b9-9ae5-44ae-9d21-926e5ddee88f",
   "metadata": {},
   "source": [
    "### Numpy 표준 데이터 타입\n",
    "* Numpy 배열은 하가지 타입의 값을 담고 있으니, 해당 타입과 그 타입의 제약 사항을 자세히 아는게 중요"
   ]
  },
  {
   "cell_type": "code",
   "execution_count": 44,
   "id": "31c62aef-d12c-4a76-8a2d-b3a513a0ac24",
   "metadata": {},
   "outputs": [
    {
     "data": {
      "text/plain": [
       "array([0, 0, 0, 0, 0, 0, 0, 0, 0, 0], dtype=int16)"
      ]
     },
     "execution_count": 44,
     "metadata": {},
     "output_type": "execute_result"
    }
   ],
   "source": [
    "np.zeros(10, dtype='int16')\n",
    "# or np.zeros(10, dtype=np.int16)"
   ]
  },
  {
   "cell_type": "markdown",
   "id": "66e4b933-6899-4c8c-8209-a8add2e08772",
   "metadata": {},
   "source": [
    "## Numpy 배열의 기초\n"
   ]
  },
  {
   "cell_type": "markdown",
   "id": "db4892c6-0085-4953-9e08-44f45a70e643",
   "metadata": {},
   "source": [
    "* 배열 속성 지정\n",
    "* 배열 인덱싱\n",
    "* 배열 슬라이싱\n",
    "* 배열 재구조화\n",
    "* 배열 결합 및 분할"
   ]
  },
  {
   "cell_type": "markdown",
   "id": "44ad4c6e-b18f-4c72-8778-b329dea9e300",
   "metadata": {},
   "source": [
    "### Numpy 배열 속성 지정"
   ]
  },
  {
   "cell_type": "code",
   "execution_count": 59,
   "id": "7890f0f2-c1fc-4f2f-a6e8-13efb2e46212",
   "metadata": {},
   "outputs": [],
   "source": [
    "import numpy as np\n",
    "np.random.seed(0) #재현 가능성을 위한 시드 값\n",
    "x1 = np.random.randint(10, size=6) # 1차원 배열\n",
    "x2 = np.random.randint(10, size=(3,4)) #2차원 배열\n",
    "x3 = np.random.randint(10, size=(3,4,5)) #3차원 배열"
   ]
  },
  {
   "cell_type": "code",
   "execution_count": 60,
   "id": "119a4eb2-a486-4932-ad49-728162197b79",
   "metadata": {},
   "outputs": [
    {
     "name": "stdout",
     "output_type": "stream",
     "text": [
      "x3 ndim: 3\n",
      "x3 shape: (3, 4, 5)\n",
      "x3 size: 60\n",
      "dtype: int32\n"
     ]
    }
   ],
   "source": [
    "print(\"x3 ndim:\", x3.ndim)\n",
    "print(\"x3 shape:\", x3.shape)\n",
    "print(\"x3 size:\", x3.size)\n",
    "print(\"dtype:\", x3.dtype)"
   ]
  },
  {
   "cell_type": "code",
   "execution_count": null,
   "id": "fe724b14-d8e4-4900-b25a-ea6576eab39b",
   "metadata": {},
   "outputs": [],
   "source": [
    "def desc(N : np.ndarray):\n",
    "    print(f'shape:{N.shape}, dtype:{N.type}, ndim:{N.dim}, size:{N.size}')"
   ]
  },
  {
   "cell_type": "markdown",
   "id": "6f068b39-7dc1-444d-a942-66381f2ad6d8",
   "metadata": {},
   "source": [
    "### 배열 인덱싱: 단일 요소에 접근하기"
   ]
  },
  {
   "cell_type": "code",
   "execution_count": 61,
   "id": "089b53c2-d5cd-471f-afa6-f0ba19069d39",
   "metadata": {},
   "outputs": [
    {
     "data": {
      "text/plain": [
       "array([5, 0, 3, 3, 7, 9])"
      ]
     },
     "execution_count": 61,
     "metadata": {},
     "output_type": "execute_result"
    }
   ],
   "source": [
    "x1"
   ]
  },
  {
   "cell_type": "code",
   "execution_count": 62,
   "id": "8c0fa128-5e1a-4fc3-add9-e39b563c4686",
   "metadata": {},
   "outputs": [
    {
     "data": {
      "text/plain": [
       "5"
      ]
     },
     "execution_count": 62,
     "metadata": {},
     "output_type": "execute_result"
    }
   ],
   "source": [
    "x1[0]"
   ]
  },
  {
   "cell_type": "code",
   "execution_count": 63,
   "id": "5aaa240e-f8b2-4639-9523-842afe771e2f",
   "metadata": {},
   "outputs": [
    {
     "data": {
      "text/plain": [
       "7"
      ]
     },
     "execution_count": 63,
     "metadata": {},
     "output_type": "execute_result"
    }
   ],
   "source": [
    "x1[4]"
   ]
  },
  {
   "cell_type": "code",
   "execution_count": 64,
   "id": "87d0eb4e-b4d2-4e06-98c0-dae3d5e2cbc9",
   "metadata": {},
   "outputs": [
    {
     "data": {
      "text/plain": [
       "9"
      ]
     },
     "execution_count": 64,
     "metadata": {},
     "output_type": "execute_result"
    }
   ],
   "source": [
    "x1[-1]"
   ]
  },
  {
   "cell_type": "code",
   "execution_count": 66,
   "id": "bfbd659d-ec40-4972-bd41-f82d9131f06e",
   "metadata": {},
   "outputs": [
    {
     "data": {
      "text/plain": [
       "7"
      ]
     },
     "execution_count": 66,
     "metadata": {},
     "output_type": "execute_result"
    }
   ],
   "source": [
    "x1[-2]"
   ]
  },
  {
   "cell_type": "code",
   "execution_count": 69,
   "id": "cb338a80-8513-411b-bde3-2dfe937d9612",
   "metadata": {},
   "outputs": [
    {
     "data": {
      "text/plain": [
       "array([[3, 5, 2, 4],\n",
       "       [7, 6, 8, 8],\n",
       "       [1, 6, 7, 7]])"
      ]
     },
     "execution_count": 69,
     "metadata": {},
     "output_type": "execute_result"
    }
   ],
   "source": [
    "x2"
   ]
  },
  {
   "cell_type": "code",
   "execution_count": 71,
   "id": "be4961fb-779a-4552-91bc-19177026fcbc",
   "metadata": {},
   "outputs": [
    {
     "data": {
      "text/plain": [
       "3"
      ]
     },
     "execution_count": 71,
     "metadata": {},
     "output_type": "execute_result"
    }
   ],
   "source": [
    "x2[0,0]"
   ]
  },
  {
   "cell_type": "code",
   "execution_count": 72,
   "id": "9efc0305-e5e0-4d48-bef1-17d39aef9904",
   "metadata": {},
   "outputs": [
    {
     "data": {
      "text/plain": [
       "1"
      ]
     },
     "execution_count": 72,
     "metadata": {},
     "output_type": "execute_result"
    }
   ],
   "source": [
    "x2[2,0]"
   ]
  },
  {
   "cell_type": "code",
   "execution_count": 73,
   "id": "d95fee59-8aac-4bbe-951e-e116eff2d781",
   "metadata": {},
   "outputs": [
    {
     "data": {
      "text/plain": [
       "7"
      ]
     },
     "execution_count": 73,
     "metadata": {},
     "output_type": "execute_result"
    }
   ],
   "source": [
    "x2[2,-1]"
   ]
  },
  {
   "cell_type": "code",
   "execution_count": 75,
   "id": "d079ab99-3206-4e4f-83bc-6afacd538a77",
   "metadata": {},
   "outputs": [
    {
     "data": {
      "text/plain": [
       "array([[12,  5,  2,  4],\n",
       "       [ 7,  6,  8,  8],\n",
       "       [ 1,  6,  7,  7]])"
      ]
     },
     "execution_count": 75,
     "metadata": {},
     "output_type": "execute_result"
    }
   ],
   "source": [
    "x2[0,0] = 12\n",
    "x2"
   ]
  },
  {
   "cell_type": "code",
   "execution_count": 76,
   "id": "30f010f1-017a-4632-8081-3113d3caace0",
   "metadata": {},
   "outputs": [
    {
     "data": {
      "text/plain": [
       "array([3, 0, 3, 3, 7, 9])"
      ]
     },
     "execution_count": 76,
     "metadata": {},
     "output_type": "execute_result"
    }
   ],
   "source": [
    "x1[0] = 3.14159 # 이 값의 소수점 이하는 잘릴 것\n",
    "x1"
   ]
  },
  {
   "cell_type": "markdown",
   "id": "f8565303-6c56-4286-8f8a-91b0a7fc9bc1",
   "metadata": {},
   "source": [
    "### 배열슬라이싱: 하위 배열에 접근하기"
   ]
  },
  {
   "cell_type": "code",
   "execution_count": 77,
   "id": "f105d15f-66b0-43b1-8695-7df1a7aa3305",
   "metadata": {},
   "outputs": [
    {
     "ename": "NameError",
     "evalue": "name 'x' is not defined",
     "output_type": "error",
     "traceback": [
      "\u001b[1;31m---------------------------------------------------------------------------\u001b[0m",
      "\u001b[1;31mNameError\u001b[0m                                 Traceback (most recent call last)",
      "Cell \u001b[1;32mIn[77], line 1\u001b[0m\n\u001b[1;32m----> 1\u001b[0m \u001b[43mx\u001b[49m[start:stop:step]\n",
      "\u001b[1;31mNameError\u001b[0m: name 'x' is not defined"
     ]
    }
   ],
   "source": [
    "x[start:stop:step]"
   ]
  },
  {
   "cell_type": "code",
   "execution_count": 78,
   "id": "619cc55b-796b-4820-9246-922c5849c810",
   "metadata": {},
   "outputs": [
    {
     "data": {
      "text/plain": [
       "array([0, 1, 2, 3, 4, 5, 6, 7, 8, 9])"
      ]
     },
     "execution_count": 78,
     "metadata": {},
     "output_type": "execute_result"
    }
   ],
   "source": [
    "x = np.arange(10)\n",
    "x"
   ]
  },
  {
   "cell_type": "code",
   "execution_count": 79,
   "id": "56bdde1e-585f-4699-9276-e15cff9b330e",
   "metadata": {},
   "outputs": [
    {
     "data": {
      "text/plain": [
       "array([0, 1, 2, 3, 4])"
      ]
     },
     "execution_count": 79,
     "metadata": {},
     "output_type": "execute_result"
    }
   ],
   "source": [
    "x[:5]"
   ]
  },
  {
   "cell_type": "code",
   "execution_count": 80,
   "id": "f74bf1ad-079e-4307-bbd9-b50c85e3b6a1",
   "metadata": {},
   "outputs": [
    {
     "data": {
      "text/plain": [
       "array([5, 6, 7, 8, 9])"
      ]
     },
     "execution_count": 80,
     "metadata": {},
     "output_type": "execute_result"
    }
   ],
   "source": [
    "x[5:]"
   ]
  },
  {
   "cell_type": "code",
   "execution_count": 82,
   "id": "2d713b5e-0e58-4029-8166-00143b9c1c0d",
   "metadata": {},
   "outputs": [
    {
     "data": {
      "text/plain": [
       "array([4, 5, 6])"
      ]
     },
     "execution_count": 82,
     "metadata": {},
     "output_type": "execute_result"
    }
   ],
   "source": [
    "x[4:7]"
   ]
  },
  {
   "cell_type": "code",
   "execution_count": 83,
   "id": "424c06b3-ca4e-42f0-aecd-2bf896ca1d67",
   "metadata": {},
   "outputs": [
    {
     "data": {
      "text/plain": [
       "array([0, 2, 4, 6, 8])"
      ]
     },
     "execution_count": 83,
     "metadata": {},
     "output_type": "execute_result"
    }
   ],
   "source": [
    "x[::2]"
   ]
  },
  {
   "cell_type": "code",
   "execution_count": 84,
   "id": "46c0cdb2-0169-497d-b510-0d55ee5ec293",
   "metadata": {},
   "outputs": [
    {
     "data": {
      "text/plain": [
       "array([1, 3, 5, 7, 9])"
      ]
     },
     "execution_count": 84,
     "metadata": {},
     "output_type": "execute_result"
    }
   ],
   "source": [
    "x[1::2]"
   ]
  },
  {
   "cell_type": "code",
   "execution_count": 85,
   "id": "a0e0732d-f923-494f-848e-93972f36cc81",
   "metadata": {},
   "outputs": [
    {
     "data": {
      "text/plain": [
       "array([9, 8, 7, 6, 5, 4, 3, 2, 1, 0])"
      ]
     },
     "execution_count": 85,
     "metadata": {},
     "output_type": "execute_result"
    }
   ],
   "source": [
    "x[::-1]"
   ]
  },
  {
   "cell_type": "code",
   "execution_count": 86,
   "id": "785c721a-fb4f-4db2-b5d8-9f9951c0c27f",
   "metadata": {},
   "outputs": [
    {
     "data": {
      "text/plain": [
       "array([5, 3, 1])"
      ]
     },
     "execution_count": 86,
     "metadata": {},
     "output_type": "execute_result"
    }
   ],
   "source": [
    "x[5::-2]"
   ]
  },
  {
   "cell_type": "markdown",
   "id": "e2bc66d3-ec24-4a52-8f5d-57429f70cccc",
   "metadata": {},
   "source": [
    "### 다차원 하위 배열\n"
   ]
  },
  {
   "cell_type": "code",
   "execution_count": 87,
   "id": "135c6ca4-29fe-4f65-bd79-151ce4238d30",
   "metadata": {},
   "outputs": [
    {
     "data": {
      "text/plain": [
       "array([[12,  5,  2,  4],\n",
       "       [ 7,  6,  8,  8],\n",
       "       [ 1,  6,  7,  7]])"
      ]
     },
     "execution_count": 87,
     "metadata": {},
     "output_type": "execute_result"
    }
   ],
   "source": [
    "x2"
   ]
  },
  {
   "cell_type": "code",
   "execution_count": 89,
   "id": "7fd2ae56-4994-44ec-849f-d8920d981a0d",
   "metadata": {},
   "outputs": [
    {
     "data": {
      "text/plain": [
       "array([[12,  5,  2],\n",
       "       [ 7,  6,  8]])"
      ]
     },
     "execution_count": 89,
     "metadata": {},
     "output_type": "execute_result"
    }
   ],
   "source": [
    "x2[:2,:3]"
   ]
  },
  {
   "cell_type": "code",
   "execution_count": 90,
   "id": "9d67c530-f7dc-455a-9f50-f4437472e0f5",
   "metadata": {},
   "outputs": [
    {
     "data": {
      "text/plain": [
       "array([[12,  2],\n",
       "       [ 7,  8],\n",
       "       [ 1,  7]])"
      ]
     },
     "execution_count": 90,
     "metadata": {},
     "output_type": "execute_result"
    }
   ],
   "source": [
    "x2[:3,::2]"
   ]
  },
  {
   "cell_type": "code",
   "execution_count": 93,
   "id": "674857fd-c5f8-49eb-b16a-476a010f2fba",
   "metadata": {},
   "outputs": [
    {
     "data": {
      "text/plain": [
       "array([[ 7,  7,  6,  1],\n",
       "       [ 8,  8,  6,  7],\n",
       "       [ 4,  2,  5, 12]])"
      ]
     },
     "execution_count": 93,
     "metadata": {},
     "output_type": "execute_result"
    }
   ],
   "source": [
    "x2[::-1,::-1]"
   ]
  },
  {
   "cell_type": "code",
   "execution_count": 94,
   "id": "73542ac6-a377-44ac-80fb-0ff2a636a7e3",
   "metadata": {},
   "outputs": [
    {
     "name": "stdout",
     "output_type": "stream",
     "text": [
      "[12  7  1]\n"
     ]
    }
   ],
   "source": [
    "print(x2[:,0])"
   ]
  },
  {
   "cell_type": "code",
   "execution_count": 96,
   "id": "3b677bf0-a67c-45bc-b7fd-20cebf4841c8",
   "metadata": {},
   "outputs": [
    {
     "name": "stdout",
     "output_type": "stream",
     "text": [
      "[12  5  2  4]\n"
     ]
    }
   ],
   "source": [
    "print(x2[0,:])"
   ]
  },
  {
   "cell_type": "code",
   "execution_count": 97,
   "id": "cee11651-86d7-4bc9-8150-8f3cf05d8c91",
   "metadata": {},
   "outputs": [
    {
     "name": "stdout",
     "output_type": "stream",
     "text": [
      "[12  5  2  4]\n"
     ]
    }
   ],
   "source": [
    "print(x2[0])"
   ]
  },
  {
   "cell_type": "markdown",
   "id": "f9f47f95-eba2-4b79-9293-c93cc6e21a2e",
   "metadata": {},
   "source": [
    "### 사본이 아닌 뷰로서의 하위 배열"
   ]
  },
  {
   "cell_type": "code",
   "execution_count": 100,
   "id": "bc68c05f-f0a8-4c3a-a461-afdd0f5f5194",
   "metadata": {},
   "outputs": [
    {
     "name": "stdout",
     "output_type": "stream",
     "text": [
      "[[12  5  2  4]\n",
      " [ 7  6  8  8]\n",
      " [ 1  6  7  7]]\n"
     ]
    }
   ],
   "source": [
    "print(x2)"
   ]
  },
  {
   "cell_type": "code",
   "execution_count": 101,
   "id": "eff549b8-3245-48ea-9ea2-f6e2a816b2e7",
   "metadata": {},
   "outputs": [
    {
     "name": "stdout",
     "output_type": "stream",
     "text": [
      "[[12  5]\n",
      " [ 7  6]]\n"
     ]
    }
   ],
   "source": [
    "x2_sub = x2[:2, :2]\n",
    "print(x2_sub)"
   ]
  },
  {
   "cell_type": "code",
   "execution_count": 102,
   "id": "eed8c2fc-0e8b-4d60-b42f-1a4dcc2be720",
   "metadata": {},
   "outputs": [
    {
     "name": "stdout",
     "output_type": "stream",
     "text": [
      "[[99  5]\n",
      " [ 7  6]]\n"
     ]
    }
   ],
   "source": [
    "x2_sub[0,0] = 99\n",
    "print(x2_sub)"
   ]
  },
  {
   "cell_type": "code",
   "execution_count": 104,
   "id": "ad1c9115-d9d1-4101-b249-0f988aa6b46d",
   "metadata": {},
   "outputs": [
    {
     "name": "stdout",
     "output_type": "stream",
     "text": [
      "[[99  5  2  4]\n",
      " [ 7  6  8  8]\n",
      " [ 1  6  7  7]]\n"
     ]
    }
   ],
   "source": [
    "print(x2)\n",
    "# 하위 배열을 수정하므로써 사우이 배열도 같이 변경됨"
   ]
  },
  {
   "cell_type": "markdown",
   "id": "685e1853-339b-4c00-a7fe-f843d22e7c37",
   "metadata": {},
   "source": [
    "### 배열의 사본 만들기"
   ]
  },
  {
   "cell_type": "code",
   "execution_count": 105,
   "id": "d5a8bc3c-d287-4952-aa3d-08789e6d0f91",
   "metadata": {},
   "outputs": [
    {
     "name": "stdout",
     "output_type": "stream",
     "text": [
      "[[99  5]\n",
      " [ 7  6]]\n"
     ]
    }
   ],
   "source": [
    "x2_sub_copy = x2[:2, :2].copy()\n",
    "print(x2_sub_copy)"
   ]
  },
  {
   "cell_type": "code",
   "execution_count": 106,
   "id": "17e01c2a-3aee-4960-855a-8202ac53a54a",
   "metadata": {},
   "outputs": [
    {
     "name": "stdout",
     "output_type": "stream",
     "text": [
      "[[42  5]\n",
      " [ 7  6]]\n"
     ]
    }
   ],
   "source": [
    "x2_sub_copy[0,0] = 42\n",
    "print(x2_sub_copy)"
   ]
  },
  {
   "cell_type": "code",
   "execution_count": 107,
   "id": "5059bfaf-ff60-4016-9949-77c5794f9a53",
   "metadata": {},
   "outputs": [
    {
     "name": "stdout",
     "output_type": "stream",
     "text": [
      "[[99  5  2  4]\n",
      " [ 7  6  8  8]\n",
      " [ 1  6  7  7]]\n"
     ]
    }
   ],
   "source": [
    "print(x2)"
   ]
  },
  {
   "cell_type": "markdown",
   "id": "fc709312-02a9-48e5-993e-7b331652a30c",
   "metadata": {},
   "source": [
    "### 배열의 재구조화"
   ]
  },
  {
   "cell_type": "code",
   "execution_count": 109,
   "id": "62c84297-251a-4aa7-ab49-afece7ae9e5e",
   "metadata": {},
   "outputs": [
    {
     "name": "stdout",
     "output_type": "stream",
     "text": [
      "[[1 2 3]\n",
      " [4 5 6]\n",
      " [7 8 9]]\n"
     ]
    }
   ],
   "source": [
    "grid = np.arange(1, 10).reshape((3,3))\n",
    "print(grid)\n",
    "# 배열의 형상을 변경, 가장유연하게 하는 방법은 reshape() 메서드 사용"
   ]
  },
  {
   "cell_type": "code",
   "execution_count": 110,
   "id": "23831266-7f1e-41d6-aa7b-bc7c866a9132",
   "metadata": {},
   "outputs": [],
   "source": [
    "# 위의 코드가 동작하려면 배열의 규모가 형상이 변경된 배열의 규모와 일치해야함\n",
    "# 또 다른 일반적인 재구조화 패턴은 1차원 배열을 2차원 행이나 열 매트릭스로 전환하는 것, 이 것도 reshape() 메서드로 가능"
   ]
  }
 ],
 "metadata": {
  "kernelspec": {
   "display_name": "Python 3 (ipykernel)",
   "language": "python",
   "name": "python3"
  },
  "language_info": {
   "codemirror_mode": {
    "name": "ipython",
    "version": 3
   },
   "file_extension": ".py",
   "mimetype": "text/x-python",
   "name": "python",
   "nbconvert_exporter": "python",
   "pygments_lexer": "ipython3",
   "version": "3.9.13"
  }
 },
 "nbformat": 4,
 "nbformat_minor": 5
}
